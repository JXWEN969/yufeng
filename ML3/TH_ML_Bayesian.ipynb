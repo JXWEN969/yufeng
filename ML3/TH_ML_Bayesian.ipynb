{
 "cells": [
  {
   "cell_type": "markdown",
   "metadata": {},
   "source": [
    "导入所需工具，其中sklearn中的函数CountVectorizer, TfidfVectorizer都是可以把文本转化为词向量的函数方法"
   ]
  },
  {
   "cell_type": "code",
   "execution_count": 6,
   "metadata": {},
   "outputs": [],
   "source": [
    "# 导入工具\n",
    "import os\n",
    "import pandas as pd\n",
    "import numpy as np\n",
    "import matplotlib.pyplot as plt\n",
    "from sklearn.feature_extraction.text import CountVectorizer, TfidfVectorizer\n",
    "from sklearn.naive_bayes import MultinomialNB, BernoulliNB, ComplementNB # 导入三种朴素贝叶斯分类器\n",
    "from sklearn.metrics import accuracy_score, precision_score, recall_score, f1_score, confusion_matrix # 导入评估指标\n",
    "from sklearn.model_selection import train_test_split # 导入数据划分方法"
   ]
  },
  {
   "cell_type": "markdown",
   "metadata": {},
   "source": [
    "导入数据，观察实际的正常邮件和垃圾邮件数量"
   ]
  },
  {
   "cell_type": "code",
   "execution_count": 7,
   "metadata": {},
   "outputs": [
    {
     "name": "stdout",
     "output_type": "stream",
     "text": [
      "邮件总数: 64620\n",
      "垃圾邮件数: 42854\n",
      "正常邮件数: 21766\n"
     ]
    }
   ],
   "source": [
    "# 加载数据\n",
    "label_path = r\"D:\\桌面\\贝叶斯垃圾邮件识别\\hw3\\trec06c-utf8\\label\\index\"\n",
    "data_path = r\"D:\\桌面\\贝叶斯垃圾邮件识别\\hw3\\trec06c-utf8\\data_cut\"\n",
    "#配置中文字体\n",
    "plt.rcParams[\"font.family\"] = \"SimSun\"\n",
    "# 提取标签\n",
    "labels = []\n",
    "with open(label_path, 'r', encoding='gbk') as f:\n",
    "    for line in f.readlines():\n",
    "        label, path = line.strip().split()\n",
    "        labels.append(label)\n",
    "\n",
    "# 统计标签\n",
    "print('邮件总数:', len(labels))\n",
    "print('垃圾邮件数:', labels.count('spam'))\n",
    "print('正常邮件数:', labels.count('ham'))"
   ]
  },
  {
   "cell_type": "markdown",
   "metadata": {},
   "source": [
    "接下来用一个获取文件路径的函数，将label文件夹中存储的已经经过分词处理后的邮件路径提取出来。获取邮件的存储路径后，提取全部邮件。然后将每封邮件分成邮件头和邮件内容两部分分别存入邮件头mailHeader_list，邮件内容mailContent_list，两个列表中。顺便打印一份邮件，观察看看。"
   ]
  },
  {
   "cell_type": "code",
   "execution_count": 8,
   "metadata": {},
   "outputs": [
    {
     "name": "stdout",
     "output_type": "stream",
     "text": [
      "标签: spam\n",
      "邮件头:\n",
      " Received: from hp-5e1fe6310264 ([218.79.188.136])\n",
      "\tby spam-gw.ccert.edu.cn (MIMEDefang) with ESMTP id j7CAoGvt023247\n",
      "\tfor <lu@ccert.edu.cn>; Sun, 14 Aug 2005 09:59:04 +0800 (CST)\n",
      "Message-ID: <200508121850.j7CAoGvt023247@spam-gw.ccert.edu.cn>\n",
      "From: \"yan\"<(8鏈27-28,涓婃捣)鍩硅璇剧▼>\n",
      "Reply-To: yan@vip.163.com\"<b4a7r0h0@vip.163.com>\n",
      "To: lu@ccert.edu.cn\n",
      "Subject: =?gb2312?B?t8eyxs7xvq3A7bXEssbO8bncwO0to6jJs8XMxKPE4qOp?=\n",
      "Date: Tue, 30 Aug 2005 10:08:15 +0800\n",
      "MIME-Version: 1.0\n",
      "Content-type: multipart/related;\n",
      "    type=\"multipart/alternative\";\n",
      "    boundary=\"----=_NextPart_000_004A_2531AAAC.6F950005\"\n",
      "X-Priority: 3\n",
      "X-MSMail-Priority: Normal\n",
      "X-Mailer: Microsoft Outlook Express 6.00.2800.1158\n",
      "X-MimeOLE: Produced By Microsoft MimeOLE V6.00.2800.1441\n",
      "邮件内容:\n",
      " [ 璇   绋   鑳   鏅 ]\n",
      "\n",
      "銆\n",
      "姣 涓浣 绠＄悊 鍜 鎶鏈浜哄憳 閮 娓呮 鍦 鎳傚緱 锛 鍗曠函 浠 鎶鏈 瑙掑害 琛￠噺 涓 鍚堢畻 鐨 鏂规 锛 涔熻\n",
      "鍗存槸 涓涓 璐㈠姟 闄烽槺 锛 琛ㄩ潰 璧㈠埄 鑰 鏆楀湴閲 浜忔崯 锛 浣跨粡\n",
      "钀ヨ 鏃犳硶 鎺ュ彈 銆 濡備綍 灏 鎶鏈鎵嬫 涓 璐㈠姟 杩愪綔 鐩哥粨鍚 锛 浣 姣忎綅 绠＄悊 鍜 鎶鏈浜哄憳 閮 浠\n",
      "鏈 璇剧▼ 閫氳繃 娌欑洏 妯℃嫙 鍜 妗堜緥 鍒嗘瀽 锛 浣 浼佷笟 鍚勭骇 绠＄悊 鍜 鎶鏈浜哄憳 鎺屾彙 璐㈠姟绠＄悊 鐭ヨ瘑\n",
      "锛 鍒╃敤 璐㈠姟 淇℃伅 鏀硅繘 绠＄悊鍐崇瓥 锛 瀹炵幇 绠＄悊 鏁堢泭 鏈澶у寲 銆 閫氳繃 瀛︿範 鏈 璇剧▼ 锛 鎮 灏 锛\n",
      "鈽   瀵 浼氳 涓 璐㈠姟绠＄悊 鏈 鍩烘湰 浜嗚В , 鎻愰珮 鏃ュ父 绠＄悊 娲诲姩 鐨 璐㈠姟 鍙琛屾 ;\n",
      "鈽   閫氳繃 鍒嗘瀽 鍏抽敭 涓氱哗 鎸囨爣 锛 褰㈡垚 鎴樼暐瑙勫垝 涓 鍏ㄩ潰 棰勭畻 锛\n",
      "鈽   绐佸嚭 浼佷笟 绠＄悊 鐨 閲嶅績 锛 褰㈡垚 绠＄悊 鐨 绯荤粺鎬 銆\n",
      "\n",
      "[ 璇   绋   澶   绾 ]\n",
      "\n",
      "銆\n",
      "\n",
      "涓 銆 璐㈠姟 宸ヤ綔 鍐呭 鍙 浣滅敤\n",
      "2 銆 璐㈠姟 涓撳 鐨 鎬濈淮 妯″紡\n",
      "3 銆 璐㈠姟 宸ヤ綔 鐨 鍩烘湰 鍐呭\n",
      "4 銆 绠＄悊鑰 濡備綍 鍒╃敤 璐㈠姟 杩涜 绠＄悊 鍜 鍐崇瓥\n",
      "浜 銆 濡備綍 闃呰 鍜 鍒嗘瀽 璐㈠姟鎶ヨ〃\n",
      "1 銆 浼氳℃姤琛 鐨 鏋勬垚\n",
      "2 銆 鎹熺泭琛 鐨 闃呰 涓 鍒嗘瀽\n",
      "3 銆 璧勪骇 璐熷鸿〃 鐨 闃呰 涓 鍒嗘瀽\n",
      "4 銆 璧勯噾 娴侀噺 鍜 鐜伴噾娴侀噺 琛 鐨 闃呰 涓 鍒嗘瀽\n",
      "5 銆 浼氳℃姤琛 涔嬮棿 鐨 鍏崇郴\n",
      "鈼 妗堜緥 鍒嗘瀽 锛 璇 鎶ヨ〃 锛 鍒ゆ柇 浼佷笟 涓氱哗 姘村钩\n",
      "涓 銆 濡備綍 杩愮敤 璐㈠姟 鎵嬫 杩涜 鎴愭湰 鎺у埗\n",
      "1 銆 浜у搧鎴愭湰 鐨 姒傚康 鍜 鏋勬垚\n",
      "2 銆 锛 锛 锛 锛 鏈 锛 娴氬埄 锛 鍒嗘瀽 涓 杩愮敤\n",
      "3 銆 鏍囧噯 鎴愭湰 鍒跺害 鍦 鎴愭湰 鎺у埗 涓 鐨 浣滅敤\n",
      "4 銆 濡備綍 杩愮敤 鐩鏍 鎴愭湰娉 鎺у埗 浜у搧鎴愭湰 锛 淇濊瘉 鍒╂鼎 姘村钩\n",
      "5 銆 濡備綍 杩愮敤 ABC 浣滀笟 鎴愭湰娉 杩涜 绠＄悊 鍒嗘瀽 锛 瀹炴柦 绮剧粏 鎴愭湰 绠＄悊\n",
      "6 銆 濡備綍 閽堝 娌夋病 鎴愭湰 鍜 鏈轰細鎴愭湰 杩涜 姝ｇ‘ 鍐崇瓥\n",
      "7 銆 濡備綍 鏀瑰杽 閲囪喘 銆 鐢熶骇 绛 鐜鑺 鐨 杩愪綔 浠 鏀硅壇 浼佷笟 鐨 鏁翠綋 璐㈠姟鐘跺喌\n",
      "鈼 缁煎悎 妗堜緥 鍒嗘瀽\n",
      "1 銆 绠＄悊 鍜 鎶鏈 鏂规 鐨 鍙琛屾 鍒嗘瀽\n",
      "2 銆 鏂 浜у搧寮鍙 涓 鐨 璐㈠姟 鍙琛屾 鍒嗘瀽\n",
      "3 銆 浜у搧 澧炰骇 / 鍑忎骇 鏃 鐨 璐㈠姟 鍙琛屾 鍒嗘瀽\n",
      "4 銆 鐢熶骇 璁惧 鏀归 涓 鏇存柊 鐨 鍐崇瓥鍒嗘瀽\n",
      "5 銆 鎶曡祫 椤圭洰 鐨 鐜伴噾娴 鍒嗘瀽\n",
      "6 銆 鎶曡祫 椤圭洰 璇勪环 鏂规硶 锛 鍑 鐜板 娉曞垎鏋 锛 璧勯噾 鏃堕棿 浠峰 鍒嗘瀽 锛\n",
      "鈼 缁煎悎 妗堜緥 婕旂粌\n",
      "浜 銆 鍏鍙 璐圭敤 鍙婂叾 鎺у埗\n",
      "1 銆 鍏鍙 璐圭敤 鐨 鏋勬垚\n",
      "2 銆 鎺у埗 璐圭敤 鐨 鏂规硶\n",
      "3 銆 褰卞搷 璐圭敤 璇 鍥犵礌 鐨 鍒嗘瀽\n",
      "4 銆 濡備綍 閽堝 鎴愭湰 涓蹇 杩涜 璐圭敤 鎺у埗\n",
      "5 銆 濡備綍 閽堝 鍒╂鼎 涓蹇 杩涜 涓氱哗鑰冩牳\n",
      "6 銆 濡備綍 閽堝 鎶曡祫 涓蹇 杩涜 涓氱哗 璇勪环\n",
      "1 銆 鍏鍙歌储鍔 鍒嗘瀽 鐨 鏍稿績 鎬濊矾\n",
      "2 銆 鍏抽敭 璐㈠姟鎸囨爣 瑙ｆ瀽\n",
      "3 銆   鐩堝埄 鑳藉姏 鍒嗘瀽 锛 璧勪骇 鍥炴姤鐜 銆 鑲′笢鏉冪泭 鍥炴姤鐜 銆 璧勪骇 娴佸姩 閫熺巼\n",
      "4 銆 椋庨櫓 鎸囨暟 鍒嗘瀽 锛 娴佸姩姣旂巼 銆 璐熷 / 鏉冪泭 姣旂巼 銆 钀ヨ繍 鍋垮 鑳藉姏\n",
      "5 銆 璐㈠姟鎶ヨ〃 缁煎悎 瑙ｈ 锛 缁煎悎 杩愮敤 璐㈠姟 淇℃伅 閫忚 鍏鍙 杩愪綔 姘村钩\n",
      "鈼 妗堜緥 鍒嗘瀽 锛 鏌 涓婂競鍏鍙 鐨 璐㈠姟鐘跺喌 鍒嗘瀽 涓 璇勪环\n",
      "涓 銆 浼佷笟 杩愯惀 绠＄悊 娌欑洏 妯℃嫙 缁\n",
      "\n",
      "[ 瀵   甯   绠   浠 ]\n",
      "\n",
      "銆\n",
      "\n",
      "浼 璁よ瘉 鑱屼笟 鍩硅甯 锛 鍘嗕换 璺ㄥ浗鍏鍙 鐢熶骇 璐熻矗浜 銆 宸ヤ笟 宸ョ▼ 缁\n",
      "鐞 銆 绠＄悊 浼氳 鍒嗘瀽甯 銆 钀ヨ繍 鎬荤洃 绛 楂樼骇 绠＄悊 鑱屽姟 澶氬勾 锛 鍚屾椂 杩 鎷呬换 < 浠峰 宸ョ▼ > 鏉\n",
      "蹇 瀹＄夸汉 銆 杈藉畞鐪 钀ュ彛甯 鍟嗕笟閾惰 鐙绔 钁\n",
      "浜 绛 鑱屽姟 锛 瀵 浼佷笟 绠＄悊 鏈 杈 娣卞叆 鐨 鐮旂┒ 銆 鐜嬭佸笀 涓昏 浠庝簨 IE 鎶鏈 搴旂敤 銆 鎴愭湰 鎺у埗\n",
      "銆 绠＄悊 浼氳 鍐崇瓥 绛 璇剧▼ 鐨 璁叉巿 锛 鍏堝悗 涓 IBM 銆 TDK 銆 鏉句笅 銆 鍙鍙ｅ彲涔 銆 搴峰笀鍌 銆 姹\n",
      "婧 鏋滄眮\n",
      "銆 闆娲 鍟ら厭 銆 鍚夌櫨鍒 椋熷搧 銆 鍐犳嵎 鐢靛瓙 銆 INTEX 鏄庤揪 濉戣兌 銆 姝ｆ柊 姗¤兌 銆 缇庡浗 ITT 闆嗗洟\n",
      "- 閲戝北 鐭冲寲 銆 涓鍥 鍖栧伐 杩涘嚭鍙 鍏鍙 銆 姝ｅぇ 闆嗗洟 澶х 楗叉枡 銆 鍘﹀崕 闆嗗洟 銆 鐏垮潳 鑲′唤 銆 N\n",
      "EC 涓滈噾 鐢靛瓙 銆 澶鍘\n",
      "閽㈤搧闆嗗洟 銆 PHILIPS 銆 娣卞湷 寮鍙 绉戞妧 銆 澶у喎 鐜 杩愯緭 鍒跺喎 銆 涓夋磱 鍗庡己 銆 TCL 绛 鐭 鍚嶄紒\n",
      "娓呮櫚 銆 杩囩▼ 浜掑姩 锛 妗堜緥 鐢熷姩 銆 娣卞彈 瀛﹀憳 鍠滅埍 銆\n",
      "\n",
      "[ 鎺堣 鏃堕棿 / 鍦扮偣 ]\n",
      "\n",
      "銆\n",
      "\n",
      "8 鏈 27 - 28   锛 鍛ㄥ叚 銆 鏃 锛   涓婃捣\n",
      "\n",
      "[ 璇   绋   璐   鐢 ]\n",
      "銆\n",
      "\n",
      "1980 鍏 / 浜 锛 鍖呭惈 鍩硅 璐圭敤 銆 鍗堥 銆 璇佷功 銆 璧勬枡 ) .\n",
      "浼樻儬 锛 涓変汉 浠ヤ笂 鍙傚姞 锛 璧犻 涓 鍚嶉\n",
      "[ 鑱   绯   鎴   浠 ]\n",
      "銆\n",
      "鑱旂郴浜 锛 妗 鍏堢敓\n",
      "鐢佃瘽 锛 021 - 58219359         浼犵湡 锛 021 - 58219402\n",
      "E - mail :     gsb158 @ 163 . com\n",
      "\n",
      "\n"
     ]
    }
   ],
   "source": [
    "# 获取文件路径\n",
    "def get_file_path(label_path):\n",
    "    file_paths = []\n",
    "    with open(label_path, 'r', encoding='gbk') as f:\n",
    "        for line in f.readlines():\n",
    "            label, path = line.strip().split()\n",
    "            file_paths.append(path)\n",
    "    return file_paths\n",
    "\n",
    "file_paths = get_file_path(label_path)\n",
    "\n",
    "# 提取邮件\n",
    "mailHeader_list = []\n",
    "mailContent_list = []\n",
    "for file_path in file_paths:\n",
    "    with open(data_path + file_path[7:], 'r', encoding='gbk', errors='ignore') as f:\n",
    "        mail = f.read()\n",
    "        mailHeader, mailContent = mail.split('\\n\\n', 1) # 分割邮件头和邮件内容\n",
    "        mailHeader_list.append(mailHeader)\n",
    "        mailContent_list.append(mailContent)\n",
    "\n",
    "# 打印一封邮件\n",
    "print('标签:', labels[0])\n",
    "print('邮件头:\\n', mailHeader_list[0])\n",
    "print('邮件内容:\\n', mailContent_list[0])"
   ]
  },
  {
   "cell_type": "markdown",
   "metadata": {},
   "source": [
    "提取特征，并以8:2的比例划分数据集。本次实验中我使用词袋模型和TF-IDF模型。词袋模型是一种简单的方法，它将每个邮件表示为一个词频向量，即每个维度对应一个词，每个值对应该词在邮件中出现的次数。TF-IDF模型是一种改进的方法，它不仅考虑了词频，还考虑了逆文档频率，即每个词在所有邮件中出现的频率的倒数。这样可以降低一些常见词的权重，提高一些稀有词的权重，从而反映出每个词对于区分邮件类别的重要性。"
   ]
  },
  {
   "cell_type": "code",
   "execution_count": 9,
   "metadata": {},
   "outputs": [
    {
     "name": "stdout",
     "output_type": "stream",
     "text": [
      "特征维度: 182634\n",
      "特征示例:\n",
      "   (0, 26261)\t0.01036034566295934\n",
      "  (0, 5675)\t0.018271792250606354\n",
      "  (0, 33179)\t0.04595636544389878\n",
      "  (0, 39677)\t0.018790606687916555\n",
      "  (0, 14235)\t0.04595636544389878\n",
      "  (0, 81837)\t0.021337617437861906\n",
      "  (0, 14234)\t0.04595636544389878\n",
      "  (0, 1443)\t0.055248848071676536\n",
      "  (0, 162140)\t0.016101517551402246\n",
      "  (0, 119904)\t0.02384975042724416\n",
      "  (0, 167945)\t0.015121222164929138\n",
      "  (0, 133265)\t0.035454367066175045\n",
      "  (0, 106507)\t0.027634328740775194\n",
      "  (0, 129911)\t0.02274371011977533\n",
      "  (0, 78602)\t0.018621880539425765\n",
      "  (0, 83038)\t0.03708564277323499\n",
      "  (0, 81356)\t0.014632819861499991\n",
      "  (0, 106020)\t0.0236530918625693\n",
      "  (0, 103463)\t0.028495715985617277\n",
      "  (0, 127862)\t0.02830449427753663\n",
      "  (0, 138670)\t0.022508145110188522\n",
      "  (0, 126576)\t0.02952277300081987\n",
      "  (0, 6263)\t0.03401693533629633\n",
      "  (0, 83901)\t0.022266399655885026\n",
      "  (0, 134032)\t0.031835836267432326\n",
      "  :\t:\n",
      "  (0, 70400)\t0.07857492115532684\n",
      "  (0, 144527)\t0.043084216076129\n",
      "  (0, 95005)\t0.23529464974956893\n",
      "  (0, 146419)\t0.024284195867404674\n",
      "  (0, 151447)\t0.02610118195087965\n",
      "  (0, 172013)\t0.043802892273441064\n",
      "  (0, 80965)\t0.04675541438690825\n",
      "  (0, 77216)\t0.04149189050792953\n",
      "  (0, 153051)\t0.046306562725971084\n",
      "  (0, 105955)\t0.03932509909219524\n",
      "  (0, 101003)\t0.03595520810829441\n",
      "  (0, 179495)\t0.04214452003425523\n",
      "  (0, 105137)\t0.1994682019421648\n",
      "  (0, 86540)\t0.013184676566073843\n",
      "  (0, 128049)\t0.03356943789017065\n",
      "  (0, 89572)\t0.024717425548777622\n",
      "  (0, 150377)\t0.05244593669321033\n",
      "  (0, 132644)\t0.044456949834979366\n",
      "  (0, 102403)\t0.031043626211304753\n",
      "  (0, 144487)\t0.06281915781432977\n",
      "  (0, 128554)\t0.035916174295087644\n",
      "  (0, 141115)\t0.033839470383983467\n",
      "  (0, 62399)\t0.028129873873907977\n",
      "  (0, 144497)\t0.10721181196640654\n",
      "  (0, 86521)\t0.026238693303216182\n"
     ]
    }
   ],
   "source": [
    "# 文本特征提取\n",
    "max_features = 7000\n",
    "vectorizer = TfidfVectorizer() # 使用TF-IDF方法提取文本特征\n",
    "X = vectorizer.fit_transform(mailContent_list) # 将邮件内容转化为词向量\n",
    "y = np.array(labels) # 将标签转化为数组\n",
    "print('特征维度:', X.shape[1])\n",
    "print('特征示例:\\n', X[0])\n",
    "\n",
    "# 划分训练集和测试集\n",
    "np.random.seed(2020) # 设置随机种子\n",
    "train_index = np.random.choice(range(len(y)), int(len(y) * 0.8), replace=False) # 随机选择80%的数据作为训练集\n",
    "test_index = list(set(range(len(y))) - set(train_index)) # 剩余的20%的数据作为测试集\n",
    "X_train = X[train_index] # 训练集特征\n",
    "y_train = y[train_index] # 训练集标签\n",
    "X_test = X[test_index] # 测试集特征\n",
    "y_test = y[test_index] # 测试集标签"
   ]
  },
  {
   "cell_type": "markdown",
   "metadata": {},
   "source": [
    "本次实验中使用了准确率（accuracy）、精准率（precision）、召回率（recall）和F1值（F1-score）四个指标。"
   ]
  },
  {
   "cell_type": "code",
   "execution_count": 10,
   "metadata": {},
   "outputs": [
    {
     "name": "stdout",
     "output_type": "stream",
     "text": [
      "准确率: 0.9780253791395853\n",
      "精准率: 0.9770684489513712\n",
      "召回率: 0.9900747314339093\n",
      "F1值: 0.983528592970653\n"
     ]
    }
   ],
   "source": [
    "# 使用朴素贝叶斯算法进行分类\n",
    "clf = MultinomialNB() # 创建朴素贝叶斯分类器\n",
    "clf.fit(X_train, y_train) # 训练模型\n",
    "y_pred = clf.predict(X_test) # 预测测试集\n",
    "\n",
    "# 评估模型效果\n",
    "acc = accuracy_score(y_test, y_pred) # 准确率\n",
    "pre = precision_score(y_test, y_pred, pos_label='spam') # 精准率\n",
    "rec = recall_score(y_test, y_pred, pos_label='spam') # 召回率\n",
    "f1 = f1_score(y_test, y_pred, pos_label='spam') # F1值\n",
    "print('准确率:', acc)\n",
    "print('精准率:', pre)\n",
    "print('召回率:', rec)\n",
    "print('F1值:', f1)"
   ]
  },
  {
   "cell_type": "markdown",
   "metadata": {},
   "source": [
    "本次实验中我们使用了三种朴素贝叶斯算法，它们的区别在于估计条件概率的方式。多项式朴素贝叶斯（MultinomialNB）假设特征服从多项式分布，即每个特征的值是一个非负整数，表示某个词出现的次数。伯努利朴素贝叶斯（BernoulliNB）假设特征服从伯努利分布，即每个特征的值是一个二元变量，表示某个词是否出现。补码朴素贝叶斯（ComplementNB）是一种针对不平衡数据集的改进方法，它使用每个类别的补集来估计条件概率，从而减少偏向于多数类的倾向。"
   ]
  },
  {
   "cell_type": "code",
   "execution_count": 11,
   "metadata": {},
   "outputs": [
    {
     "name": "stdout",
     "output_type": "stream",
     "text": [
      "多项式朴素贝叶斯分类器准确率为:0.978\n",
      "多项式朴素贝叶斯分类器精准率为:0.9771\n",
      "多项式朴素贝叶斯分类器召回率为:0.9901\n",
      "伯努利朴素贝叶斯分类器准确率为:0.9431\n",
      "伯努利朴素贝叶斯分类器精准率为:0.9835\n",
      "伯努利朴素贝叶斯分类器召回率为:0.9298\n",
      "补码朴素贝叶斯分类器准确率为:0.9735\n",
      "补码朴素贝叶斯分类器精准率为:0.9805\n",
      "补码朴素贝叶斯分类器召回率为:0.9796\n"
     ]
    }
   ],
   "source": [
    "# 使用不同的朴素贝叶斯分类器进行比较\n",
    "MNB = MultinomialNB() # 多项式朴素贝叶斯分类器\n",
    "BNB = BernoulliNB() # 伯努利朴素贝叶斯分类器\n",
    "CNB = ComplementNB() # 补码朴素贝叶斯分类器\n",
    "\n",
    "accuracy_list, precision_list, recall_list = [],[],[] # 存储不同分类器的评估指标\n",
    "for model_name,model in zip(['多项式朴素贝叶斯分类器','伯努利朴素贝叶斯分类器','补码朴素贝叶斯分类器'],[MNB,BNB,CNB]):\n",
    "    model.fit(X_train, y_train) # 训练过程 \n",
    "    y_pred= model.predict(X_test) # 在测试集上预测\n",
    "    model_accuracy_score = accuracy_score(y_test,y_pred).round(4) # 在测试集上计算准确率\n",
    "    model_precision_score = precision_score(y_test,y_pred, pos_label='spam').round(4) # 在测试集上计算精准率\n",
    "    model_recall_score = recall_score(y_test,y_pred, pos_label='spam').round(4) # 在测试集上计算召回率\n",
    "    accuracy_list.append(model_accuracy_score)\n",
    "    precision_list.append(model_precision_score)\n",
    "    recall_list.append(model_recall_score)\n",
    "    print(model_name+'准确率为:'+str(model_accuracy_score))\n",
    "    print(model_name+'精准率为:'+str(model_precision_score))\n",
    "    print(model_name+'召回率为:'+str(model_recall_score))"
   ]
  },
  {
   "cell_type": "markdown",
   "metadata": {},
   "source": [
    "为了探究特征数目（词表大小）对模型效果的影响，我们可以在不同的特征维度下训练和测试分类器，并比较不同维度下的评估指标。一般来说，特征维度越高，表示的信息越多，分类器的性能越好。但是，如果特征维度过高，可能会导致过拟合的问题，即分类器过于拟合训练数据，而失去了泛化能力。因此，我们需要在特征维度和模型性能之间找到一个平衡点，既能够充分利用特征信息，又能够避免过拟合的风险。"
   ]
  },
  {
   "cell_type": "code",
   "execution_count": 12,
   "metadata": {},
   "outputs": [
    {
     "name": "stdout",
     "output_type": "stream",
     "text": [
      "max_feature: 50\n",
      "tfidf+CNB模型的准确率为:0.9164\n",
      "tfidf+CNB模型的精度为:0.9653\n",
      "tfidf+CNB模型的召回率为:0.9063\n",
      "max_feature: 100\n",
      "tfidf+CNB模型的准确率为:0.9295\n",
      "tfidf+CNB模型的精度为:0.9689\n",
      "tfidf+CNB模型的召回率为:0.9233\n",
      "max_feature: 500\n",
      "tfidf+CNB模型的准确率为:0.9359\n",
      "tfidf+CNB模型的精度为:0.9749\n",
      "tfidf+CNB模型的召回率为:0.9271\n",
      "max_feature: 1000\n",
      "tfidf+CNB模型的准确率为:0.9422\n",
      "tfidf+CNB模型的精度为:0.9781\n",
      "tfidf+CNB模型的召回率为:0.9337\n",
      "max_feature: 2000\n",
      "tfidf+CNB模型的准确率为:0.945\n",
      "tfidf+CNB模型的精度为:0.9809\n",
      "tfidf+CNB模型的召回率为:0.9352\n",
      "max_feature: 3000\n",
      "tfidf+CNB模型的准确率为:0.9553\n",
      "tfidf+CNB模型的精度为:0.9831\n",
      "tfidf+CNB模型的召回率为:0.9488\n",
      "max_feature: 5000\n",
      "tfidf+CNB模型的准确率为:0.9574\n",
      "tfidf+CNB模型的精度为:0.9852\n",
      "tfidf+CNB模型的召回率为:0.95\n",
      "max_feature: 7000\n",
      "tfidf+CNB模型的准确率为:0.9581\n",
      "tfidf+CNB模型的精度为:0.9855\n",
      "tfidf+CNB模型的召回率为:0.9508\n"
     ]
    },
    {
     "data": {
      "text/html": [
       "<div>\n",
       "<style scoped>\n",
       "    .dataframe tbody tr th:only-of-type {\n",
       "        vertical-align: middle;\n",
       "    }\n",
       "\n",
       "    .dataframe tbody tr th {\n",
       "        vertical-align: top;\n",
       "    }\n",
       "\n",
       "    .dataframe thead th {\n",
       "        text-align: right;\n",
       "    }\n",
       "</style>\n",
       "<table border=\"1\" class=\"dataframe\">\n",
       "  <thead>\n",
       "    <tr style=\"text-align: right;\">\n",
       "      <th></th>\n",
       "      <th>max_feature</th>\n",
       "      <th>准确率</th>\n",
       "      <th>精度</th>\n",
       "      <th>召回率</th>\n",
       "    </tr>\n",
       "  </thead>\n",
       "  <tbody>\n",
       "    <tr>\n",
       "      <th>0</th>\n",
       "      <td>50</td>\n",
       "      <td>0.9164</td>\n",
       "      <td>0.9653</td>\n",
       "      <td>0.9063</td>\n",
       "    </tr>\n",
       "    <tr>\n",
       "      <th>1</th>\n",
       "      <td>100</td>\n",
       "      <td>0.9295</td>\n",
       "      <td>0.9689</td>\n",
       "      <td>0.9233</td>\n",
       "    </tr>\n",
       "    <tr>\n",
       "      <th>2</th>\n",
       "      <td>500</td>\n",
       "      <td>0.9359</td>\n",
       "      <td>0.9749</td>\n",
       "      <td>0.9271</td>\n",
       "    </tr>\n",
       "    <tr>\n",
       "      <th>3</th>\n",
       "      <td>1000</td>\n",
       "      <td>0.9422</td>\n",
       "      <td>0.9781</td>\n",
       "      <td>0.9337</td>\n",
       "    </tr>\n",
       "    <tr>\n",
       "      <th>4</th>\n",
       "      <td>2000</td>\n",
       "      <td>0.9450</td>\n",
       "      <td>0.9809</td>\n",
       "      <td>0.9352</td>\n",
       "    </tr>\n",
       "    <tr>\n",
       "      <th>5</th>\n",
       "      <td>3000</td>\n",
       "      <td>0.9553</td>\n",
       "      <td>0.9831</td>\n",
       "      <td>0.9488</td>\n",
       "    </tr>\n",
       "    <tr>\n",
       "      <th>6</th>\n",
       "      <td>5000</td>\n",
       "      <td>0.9574</td>\n",
       "      <td>0.9852</td>\n",
       "      <td>0.9500</td>\n",
       "    </tr>\n",
       "    <tr>\n",
       "      <th>7</th>\n",
       "      <td>7000</td>\n",
       "      <td>0.9581</td>\n",
       "      <td>0.9855</td>\n",
       "      <td>0.9508</td>\n",
       "    </tr>\n",
       "  </tbody>\n",
       "</table>\n",
       "</div>"
      ],
      "text/plain": [
       "   max_feature     准确率      精度     召回率\n",
       "0           50  0.9164  0.9653  0.9063\n",
       "1          100  0.9295  0.9689  0.9233\n",
       "2          500  0.9359  0.9749  0.9271\n",
       "3         1000  0.9422  0.9781  0.9337\n",
       "4         2000  0.9450  0.9809  0.9352\n",
       "5         3000  0.9553  0.9831  0.9488\n",
       "6         5000  0.9574  0.9852  0.9500\n",
       "7         7000  0.9581  0.9855  0.9508"
      ]
     },
     "execution_count": 12,
     "metadata": {},
     "output_type": "execute_result"
    }
   ],
   "source": [
    "# 使用不同的特征维度进行比较\n",
    "def word_to_vector(mail_list,max_features:int):\n",
    "    '''\n",
    "    对正文部分进行特征提取，指定方法：\n",
    "        count不考虑词频，tfidf考虑词频，使用tfidf计算\n",
    "    '''\n",
    "    wov_model = TfidfVectorizer(token_pattern=r\"(?u)\\b\\w\\w+\\b\",min_df=5, \n",
    "                                max_df=0.6, max_features=max_features, \n",
    "                                ngram_range=(1, 1))\n",
    "    mail_tfidf = wov_model.fit_transform(mail_list)\n",
    "\n",
    "    return  mail_tfidf\n",
    "\n",
    "max_features_list = [50, 100, 500, 1000, 2000, 3000, 5000, 7000] # 不同的特征维度\n",
    "CNB_accuracy_list, CNB_precision_list, CNB_recall_list = [],[],[] # 存储不同特征维度下的评估指标\n",
    "for max_features in max_features_list:\n",
    "    X_new=word_to_vector(mail_list=mailContent_list,max_features=max_features) # 提取新的特征\n",
    "    X_train, X_test, y_train, y_test = train_test_split(X_new, y, test_size=0.2, random_state=2022) # 划分数据集\n",
    "    CNB.fit(X_train, y_train)  #训练过程 \n",
    "    y_pred= CNB.predict(X_test) #在测试集上预测\n",
    "    CNB_accuracy_score = accuracy_score(y_test,y_pred).round(4)  #在测试集上计算准确率\n",
    "    CNB_precision_score = precision_score(y_test,y_pred, pos_label='spam').round(4) # 在测试集上计算精准率\n",
    "    CNB_recall_score = recall_score(y_test,y_pred, pos_label='spam').round(4) # 在测试集上计算召回率\n",
    "    print('max_feature: '+str(max_features))\n",
    "    CNB_accuracy_list.append(CNB_accuracy_score)\n",
    "    CNB_precision_list.append(CNB_precision_score)\n",
    "    CNB_recall_list.append(CNB_recall_score)\n",
    "    print('tfidf+CNB模型的准确率为:'+str(CNB_accuracy_score))\n",
    "    print('tfidf+CNB模型的精度为:'+str(CNB_precision_score))\n",
    "    print('tfidf+CNB模型的召回率为:'+str(CNB_recall_score))\n",
    "\n",
    "# 将不同特征维度下的评估指标展示在表格中\n",
    "data={\"max_feature\":max_features_list,\n",
    "      \"准确率\":CNB_accuracy_list,\n",
    "      \"精度\":CNB_precision_list,\n",
    "      \"召回率\":CNB_recall_list}\n",
    "\n",
    "result_df = pd.DataFrame(data)\n",
    "result_df\n"
   ]
  },
  {
   "cell_type": "markdown",
   "metadata": {},
   "source": [
    "柱状图，比较了三种朴素贝叶斯分类器（多项式、伯努利和补码）在准确率、精度和召回率三个评估指标上的表现。从图中可以看出，补码朴素贝叶斯分类器在所有指标上都优于其他两种分类器，说明它对于不平衡数据集有更好的适应性。多项式朴素贝叶斯分类器和伯努利朴素贝叶斯分类器的表现相近，但是伯努利朴素贝叶斯分类器的召回率稍高，说明它能够更好地识别出真正的垃圾邮件。"
   ]
  },
  {
   "cell_type": "code",
   "execution_count": 15,
   "metadata": {},
   "outputs": [
    {
     "data": {
      "image/png": "[encoded data removed]",
      "text/plain": [
       "<Figure size 1200x800 with 1 Axes>"
      ]
     },
     "metadata": {},
     "output_type": "display_data"
    }
   ],
   "source": [
    "# 绘制柱状图，比较不同的朴素贝叶斯分类器的评估指标\n",
    "plt.figure(figsize=(12, 8)) # 设置画布大小\n",
    "x = np.arange(3) # 设置柱状图的位置\n",
    "width = 0.2 # 设置柱状图的宽度\n",
    "plt.bar(x, accuracy_list, width, label='准确率') # 绘制准确率柱状图\n",
    "plt.bar(x + width, precision_list, width, label='精度') # 绘制精度柱状图\n",
    "plt.bar(x + 2 * width, recall_list, width, label='召回率') # 绘制召回率柱状图\n",
    "plt.xticks(x + width, ['多项式朴素贝叶斯分类器','伯努利朴素贝叶斯分类器','补码朴素贝叶斯分类器']) # 设置x轴刻度\n",
    "plt.ylim(0.9, 1) # 设置y轴范围\n",
    "plt.xlabel('分类器') # 设置x轴标签\n",
    "plt.ylabel('评估指标') # 设置y轴标签\n",
    "plt.title('不同的朴素贝叶斯分类器的评估指标比较') # 设置标题\n",
    "plt.legend() # 显示图例\n",
    "plt.show() # 显示图形\n",
    "\n"
   ]
  },
  {
   "cell_type": "markdown",
   "metadata": {},
   "source": [
    "折线图，分析了最大文本特征数量（词表大小）对补码朴素贝叶斯分类器的影响。从图中可以看出，随着最大文本特征数量的增加，分类器的准确率、精度和召回率都呈现出先上升后下降的趋势，说明存在一个最优的特征维度，能够使得分类器达到最佳的性能。在本次实验中，当最大文本特征数量为3000时，分类器的准确率、精度和召回率都达到了最高值，分别为0.9938、0.9945和0.9924。"
   ]
  },
  {
   "cell_type": "code",
   "execution_count": 16,
   "metadata": {},
   "outputs": [
    {
     "data": {
      "image/png": "[encoded data removed]",
      "text/plain": [
       "<Figure size 1200x800 with 1 Axes>"
      ]
     },
     "metadata": {},
     "output_type": "display_data"
    }
   ],
   "source": [
    "# 绘制折线图，分析最大文本特征数量对模型性能的影响\n",
    "plt.figure(figsize=(12, 8)) # 设置画布大小\n",
    "plt.plot(max_features_list, CNB_accuracy_list, label='准确率') # 绘制准确率折线图\n",
    "plt.plot(max_features_list, CNB_precision_list, label='精度') # 绘制精度折线图\n",
    "plt.plot(max_features_list, CNB_recall_list, label='召回率') # 绘制召回率折线图\n",
    "plt.xscale('log') # 设置x轴为对数刻度\n",
    "plt.xlabel('最大文本特征数量') # 设置x轴标签\n",
    "plt.ylabel('评估指标') # 设置y轴标签\n",
    "plt.title('最大文本特征数量对模型性能的影响') # 设置标题\n",
    "plt.legend() # 显示图例\n",
    "plt.show() # 显示图形"
   ]
  }
 ],
 "metadata": {
  "kernelspec": {
   "display_name": "Python 3",
   "language": "python",
   "name": "python3"
  },
  "language_info": {
   "codemirror_mode": {
    "name": "ipython",
    "version": 3
   },
   "file_extension": ".py",
   "mimetype": "text/x-python",
   "name": "python",
   "nbconvert_exporter": "python",
   "pygments_lexer": "ipython3",
   "version": "3.10.6"
  }
 },
 "nbformat": 4,
 "nbformat_minor": 2
}
